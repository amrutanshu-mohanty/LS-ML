{
  "cells": [
    {
      "cell_type": "markdown",
      "metadata": {},
      "source": [
        "# Facial Recognition Project using Siamese Neural Networks"
      ]
    },
    {
      "cell_type": "markdown",
      "metadata": {},
      "source": [
        "## Importing Dependencies"
      ]
    },
    {
      "cell_type": "code",
      "execution_count": 2,
      "metadata": {
        "id": "1_Jdd6k-CweL"
      },
      "outputs": [
        {
          "name": "stdout",
          "output_type": "stream",
          "text": [
            "WARNING:tensorflow:From c:\\Users\\amrut\\AppData\\Local\\Programs\\Python\\Python311\\Lib\\site-packages\\keras\\src\\losses.py:2976: The name tf.losses.sparse_softmax_cross_entropy is deprecated. Please use tf.compat.v1.losses.sparse_softmax_cross_entropy instead.\n",
            "\n"
          ]
        }
      ],
      "source": [
        "import cv2\n",
        "import matplotlib.pyplot as plt\n",
        "import numpy as np\n",
        "import os\n",
        "import random\n",
        "\n",
        "# tensorflow dependencies\n",
        "from keras.models import Sequential, Model\n",
        "from keras.layers import Layer, Dense, Conv2D, Flatten, Input, MaxPool2D\n",
        "import tensorflow as tf"
      ]
    },
    {
      "cell_type": "markdown",
      "metadata": {},
      "source": [
        "## Setting up required files"
      ]
    },
    {
      "cell_type": "code",
      "execution_count": 10,
      "metadata": {
        "id": "s4RMAemRD1y1"
      },
      "outputs": [],
      "source": [
        "# setup file paths\n",
        "pos_path = os.path.join('facial recognition data', 'positive')\n",
        "neg_path = os.path.join('facial recognition data', 'negative')\n",
        "anchor_path = os.path.join('facial recognition data', 'anchors')\n",
        "os.makedirs(pos_path)\n",
        "os.makedirs(neg_path)\n",
        "os.makedirs(anchor_path)"
      ]
    },
    {
      "cell_type": "code",
      "execution_count": 5,
      "metadata": {
        "id": "Jed8a-eVRsDo"
      },
      "outputs": [],
      "source": [
        "# uncompress the image dataset for negatives\n",
        "# from lfw dataset: http://vis-ww.cs.umass.edu/lfw/\n",
        "\n",
        "!tar -xf lfw.tgz"
      ]
    },
    {
      "cell_type": "code",
      "execution_count": 6,
      "metadata": {
        "id": "aaxp6SW4QMqW"
      },
      "outputs": [],
      "source": [
        "# move lfw images to the correct directories\n",
        "\n",
        "# iterating over all directories in lfw (contains names and each contains certain images of that person)\n",
        "for directory in os.listdir('lfw'):\n",
        "  # iterating over all the files in any given person's folder\n",
        "  for file in os.listdir((os.path.join('lfw', directory))):\n",
        "    # defining previous path\n",
        "    prev_path = os.path.join('lfw', directory, file)\n",
        "    # creating new path\n",
        "    new_path = os.path.join(neg_path, file)\n",
        "    # replacing old path by new path, effectively moving the files\n",
        "    os.replace(prev_path, new_path)\n",
        "\n",
        "# might seem new, but is actually pretty intuitive and easy"
      ]
    },
    {
      "cell_type": "code",
      "execution_count": 4,
      "metadata": {
        "id": "Mc_dsaSCRggn"
      },
      "outputs": [],
      "source": [
        "# Import uuid library to generate unique image names for the images we'll create\n",
        "import uuid"
      ]
    },
    {
      "cell_type": "markdown",
      "metadata": {},
      "source": [
        "## Creating and storing the dataset"
      ]
    },
    {
      "cell_type": "code",
      "execution_count": 11,
      "metadata": {
        "id": "1FKMwgPqR--M"
      },
      "outputs": [],
      "source": [
        "# Create a connection to the webcam\n",
        "capture = cv2.VideoCapture(0)\n",
        "while capture.isOpened():\n",
        "  ret, frame = capture.read()\n",
        "\n",
        "  # cut frame down to 250x250 pixels\n",
        "  frame = frame[50:50+250, 200:200+250]\n",
        "\n",
        "  # collect anchor images\n",
        "  if cv2.waitKey(1) & 0XFF == ord(\"a\"):\n",
        "    # create unique file path\n",
        "    img_name = os.path.join(anchor_path, '{}.jpg'.format(uuid.uuid1()))\n",
        "    # save image\n",
        "    cv2.imwrite(img_name, frame)\n",
        "\n",
        "  # collect positive imagesqq\n",
        "  if cv2.waitKey(1) & 0XFF == ord(\"p\"):\n",
        "    # create unique file path\n",
        "    img_name = os.path.join(pos_path, '{}.jpg'.format(uuid.uuid1()))\n",
        "    # save image\n",
        "    cv2.imwrite(img_name, frame)\n",
        "    \n",
        "  # show image in screen\n",
        "  cv2.imshow(\"Image Collection\", frame)\n",
        "  if cv2.waitKey(1) & 0XFF == ord(\"q\"):\n",
        "    # waitKey(1) refreshes the window after every millisecond and returns a 32-bit integer\n",
        "    # we use & to retain only the required 8 digits (0XFF is 11111111) ord() returns unicode and that is within 0-255\n",
        "    # so pressing q will break\n",
        "    break\n",
        "\n",
        "capture.release()\n",
        "cv2.destroyAllWindows()"
      ]
    },
    {
      "cell_type": "markdown",
      "metadata": {},
      "source": [
        "## Preprocessing"
      ]
    },
    {
      "cell_type": "code",
      "execution_count": 11,
      "metadata": {},
      "outputs": [],
      "source": [
        "# with all the data collected, we can begin preprocessing\n",
        "\n",
        "def preprocess(img_file_path):\n",
        "    # Read in image from file path\n",
        "    byte_img = tf.io.read_file(img_file_path)\n",
        "    # convert the image to a uint8 tensor\n",
        "    img = tf.io.decode_jpeg(byte_img)\n",
        "\n",
        "    # resize the image to 100x100\n",
        "    img = tf.image.resize(img, (100,100))\n",
        "    # scale the values\n",
        "    img /= 255\n",
        "    return img"
      ]
    },
    {
      "cell_type": "code",
      "execution_count": 12,
      "metadata": {},
      "outputs": [],
      "source": [
        "# get image directories\n",
        "\n",
        "anchor = tf.data.Dataset.list_files(anchor_path+'\\*.jpg').take(300)\n",
        "positive = tf.data.Dataset.list_files(pos_path+'\\*.jpg').take(300)\n",
        "negative = tf.data.Dataset.list_files(neg_path+'\\*.jpg').take(300)"
      ]
    },
    {
      "cell_type": "code",
      "execution_count": 13,
      "metadata": {},
      "outputs": [
        {
          "name": "stdout",
          "output_type": "stream",
          "text": [
            "b'facial recognition data\\\\anchors\\\\52dcb118-4b4f-11ef-a9c8-68545a8812dc.jpg'\n"
          ]
        }
      ],
      "source": [
        "# testing if data is loaded fine or not\n",
        "dir_test = anchor.as_numpy_iterator()\n",
        "print(dir_test.next())"
      ]
    },
    {
      "cell_type": "code",
      "execution_count": 14,
      "metadata": {},
      "outputs": [],
      "source": [
        "# Create labelled dataset\n",
        "positives = tf.data.Dataset.zip((anchor, positive))\n",
        "y_positives=tf.data.Dataset.from_tensor_slices(tf.ones(len(anchor)))\n",
        "negatives = tf.data.Dataset.zip((anchor, negative))\n",
        "y_negatives = tf.data.Dataset.from_tensor_slices(tf.zeros(len(anchor)))\n",
        "data = positives.concatenate(negatives)\n",
        "labels = y_positives.concatenate(y_negatives)"
      ]
    },
    {
      "cell_type": "code",
      "execution_count": 15,
      "metadata": {},
      "outputs": [
        {
          "name": "stdout",
          "output_type": "stream",
          "text": [
            "(b'facial recognition data\\\\anchors\\\\f1e0a3f9-4b4e-11ef-8145-68545a8812dc.jpg', b'facial recognition data\\\\positive\\\\627704c2-4b4f-11ef-81eb-68545a8812dc.jpg')\n"
          ]
        }
      ],
      "source": [
        "# verify\n",
        "samples = data.as_numpy_iterator()\n",
        "print(samples.next())"
      ]
    },
    {
      "cell_type": "code",
      "execution_count": 16,
      "metadata": {},
      "outputs": [],
      "source": [
        "# write a new function which does the preeprocessing for a column\n",
        "def preprocess_twin(t, v):\n",
        "    return (preprocess(t), preprocess(v))"
      ]
    },
    {
      "cell_type": "code",
      "execution_count": 17,
      "metadata": {},
      "outputs": [],
      "source": [
        "# pipeline to preprocess the data\n",
        "\n",
        "data = data.map(preprocess_twin)\n",
        "dataset = tf.data.Dataset.zip((data, labels))\n",
        "dataset = dataset.cache()     # to load the files onto a cache for faster access\n",
        "dataset = dataset.shuffle(buffer_size=1024)"
      ]
    },
    {
      "cell_type": "code",
      "execution_count": 18,
      "metadata": {},
      "outputs": [],
      "source": [
        "# Partitioning into test and train\n",
        "\n",
        "# Training Partition\n",
        "data_train = dataset.take(round(len(data)*0.75))\n",
        "# Make batches of 16\n",
        "data_train = data_train.batch(16)\n",
        "# Preprocess 8 batches while previous ones are being trained\n",
        "data_train = data_train.prefetch(8)"
      ]
    },
    {
      "cell_type": "code",
      "execution_count": 19,
      "metadata": {},
      "outputs": [],
      "source": [
        "# Testing Partition\n",
        "data_test = dataset.skip(round(len(data)*0.75))\n",
        "data_test = data_test.batch(16)\n",
        "data_test = data_test.prefetch(8)"
      ]
    },
    {
      "cell_type": "markdown",
      "metadata": {},
      "source": [
        "## Building the Model"
      ]
    },
    {
      "cell_type": "code",
      "execution_count": 4,
      "metadata": {},
      "outputs": [],
      "source": [
        "# defining  the distance layer\n",
        "\n",
        "class L1Dist(Layer):\n",
        "    def __init__(self, **kwargs):\n",
        "        # kwargs are there to allow any other parameters such as input_dim, units etc\n",
        "        # see keras documentation of creating a custom layer\n",
        "        super().__init__()\n",
        "    \n",
        "    # the call function of the class is what the model inhernetly uses\n",
        "    def call(self, input_embedding, validation_embedding):\n",
        "        return tf.math.abs(input_embedding - validation_embedding)"
      ]
    },
    {
      "cell_type": "code",
      "execution_count": 5,
      "metadata": {},
      "outputs": [],
      "source": [
        "# defining the cnn embeddings\n",
        "\n",
        "cnn = Sequential([\n",
        "    Conv2D(filters=64, kernel_size=(10,10), activation='relu', input_shape=(100,100,3)),\n",
        "    MaxPool2D(64, (2,2), padding='same'),\n",
        "\n",
        "    Conv2D(filters=128, kernel_size=(7,7), activation='relu'),\n",
        "    MaxPool2D(64, (2,2), padding='same'),\n",
        "\n",
        "    Conv2D(filters=128, kernel_size=(4,4), activation='relu'),\n",
        "    MaxPool2D(64, (2,2), padding='same'),\n",
        "\n",
        "    Conv2D(filters=256, kernel_size=(4,4), activation='relu'),\n",
        "\n",
        "    Flatten(),\n",
        "    Dense(4096, activation='sigmoid')\n",
        "])\n",
        "\n",
        "# input for the cnn\n",
        "input_image = Input(name='input_img', shape=(100,100,3))\n",
        "validation_image = Input(name='validation_img', shape=(100,100,3))\n",
        "\n",
        "# creating the siamese layer\n",
        "distance_layer = L1Dist()\n",
        "distances = distance_layer(cnn(input_image), cnn(validation_image))\n",
        "\n",
        "# creating the final layer\n",
        "output = Dense(1, activation='sigmoid')(distances)\n",
        "\n",
        "# Defining the model\n",
        "model = Model(inputs=[input_image, validation_image], outputs=output, name='siameseNetwork')"
      ]
    },
    {
      "cell_type": "code",
      "execution_count": 12,
      "metadata": {},
      "outputs": [
        {
          "name": "stdout",
          "output_type": "stream",
          "text": [
            "Model: \"siameseNetwork\"\n",
            "__________________________________________________________________________________________________\n",
            " Layer (type)                Output Shape                 Param #   Connected to                  \n",
            "==================================================================================================\n",
            " input_img (InputLayer)      [(None, 100, 100, 3)]        0         []                            \n",
            "                                                                                                  \n",
            " validation_img (InputLayer  [(None, 100, 100, 3)]        0         []                            \n",
            " )                                                                                                \n",
            "                                                                                                  \n",
            " sequential (Sequential)     (None, 4096)                 3896044   ['input_img[0][0]',           \n",
            "                                                          8          'validation_img[0][0]']      \n",
            "                                                                                                  \n",
            " l1_dist (L1Dist)            (None, 4096)                 0         ['sequential[0][0]',          \n",
            "                                                                     'sequential[1][0]']          \n",
            "                                                                                                  \n",
            " dense_1 (Dense)             (None, 1)                    4097      ['l1_dist[0][0]']             \n",
            "                                                                                                  \n",
            "==================================================================================================\n",
            "Total params: 38964545 (148.64 MB)\n",
            "Trainable params: 38964545 (148.64 MB)\n",
            "Non-trainable params: 0 (0.00 Byte)\n",
            "__________________________________________________________________________________________________\n"
          ]
        }
      ],
      "source": [
        "model.summary()"
      ]
    },
    {
      "cell_type": "markdown",
      "metadata": {},
      "source": [
        "## Compiling the Model"
      ]
    },
    {
      "cell_type": "code",
      "execution_count": 13,
      "metadata": {},
      "outputs": [
        {
          "name": "stdout",
          "output_type": "stream",
          "text": [
            "WARNING:tensorflow:From c:\\Users\\amrut\\AppData\\Local\\Programs\\Python\\Python311\\Lib\\site-packages\\keras\\src\\optimizers\\__init__.py:309: The name tf.train.Optimizer is deprecated. Please use tf.compat.v1.train.Optimizer instead.\n",
            "\n"
          ]
        }
      ],
      "source": [
        "model.compile(optimizer='adam', loss='binary_crossentropy', metrics=['accuracy'])"
      ]
    },
    {
      "cell_type": "markdown",
      "metadata": {},
      "source": [
        "## Training and Testing"
      ]
    },
    {
      "cell_type": "code",
      "execution_count": 56,
      "metadata": {},
      "outputs": [
        {
          "name": "stdout",
          "output_type": "stream",
          "text": [
            "Epoch 1/20\n",
            "29/29 [==============================] - 483s 16s/step - loss: 0.3782 - accuracy: 0.8533\n",
            "Epoch 2/20\n",
            "29/29 [==============================] - 394s 14s/step - loss: 0.1816 - accuracy: 0.9356\n",
            "Epoch 3/20\n",
            "29/29 [==============================] - 1182s 42s/step - loss: 0.1658 - accuracy: 0.9533\n",
            "Epoch 4/20\n",
            "29/29 [==============================] - 175s 6s/step - loss: 0.1923 - accuracy: 0.9267\n",
            "Epoch 5/20\n",
            "29/29 [==============================] - 193s 7s/step - loss: 0.1539 - accuracy: 0.9622\n",
            "Epoch 6/20\n",
            "29/29 [==============================] - 171s 6s/step - loss: 0.3828 - accuracy: 0.8489\n",
            "Epoch 7/20\n",
            "29/29 [==============================] - 1480s 53s/step - loss: 0.6145 - accuracy: 0.6289\n",
            "Epoch 8/20\n",
            "29/29 [==============================] - 177s 6s/step - loss: 0.4509 - accuracy: 0.8311\n",
            "Epoch 9/20\n",
            "29/29 [==============================] - 1183s 42s/step - loss: 0.3720 - accuracy: 0.9000\n",
            "Epoch 10/20\n",
            "29/29 [==============================] - 165s 6s/step - loss: 0.4156 - accuracy: 0.8444\n",
            "Epoch 11/20\n",
            "29/29 [==============================] - 157s 5s/step - loss: 0.3484 - accuracy: 0.9578\n",
            "Epoch 12/20\n",
            "29/29 [==============================] - 300s 11s/step - loss: 0.3461 - accuracy: 0.9244\n",
            "Epoch 13/20\n",
            "29/29 [==============================] - 871s 31s/step - loss: 0.2985 - accuracy: 0.9711\n",
            "Epoch 14/20\n",
            "29/29 [==============================] - 163s 6s/step - loss: 0.3304 - accuracy: 0.9178\n",
            "Epoch 15/20\n",
            "29/29 [==============================] - 160s 6s/step - loss: 0.3659 - accuracy: 0.8778\n",
            "Epoch 16/20\n",
            "29/29 [==============================] - 157s 5s/step - loss: 0.3375 - accuracy: 0.9022\n",
            "Epoch 17/20\n",
            "29/29 [==============================] - 157s 5s/step - loss: 0.2656 - accuracy: 0.9711\n",
            "Epoch 18/20\n",
            "29/29 [==============================] - 170s 6s/step - loss: 0.2639 - accuracy: 0.9778\n",
            "Epoch 19/20\n",
            "29/29 [==============================] - 159s 5s/step - loss: 0.3306 - accuracy: 0.9244\n",
            "Epoch 20/20\n",
            "29/29 [==============================] - 156s 5s/step - loss: 0.2563 - accuracy: 0.9733\n"
          ]
        },
        {
          "data": {
            "text/plain": [
              "<keras.src.callbacks.History at 0x22264237d10>"
            ]
          },
          "execution_count": 56,
          "metadata": {},
          "output_type": "execute_result"
        }
      ],
      "source": [
        "model.fit(data_train, batch_size=16, epochs=20, verbose=1)"
      ]
    },
    {
      "cell_type": "code",
      "execution_count": 22,
      "metadata": {},
      "outputs": [
        {
          "name": "stdout",
          "output_type": "stream",
          "text": [
            "10/10 [==============================] - 17s 2s/step - loss: 0.3096 - accuracy: 0.8667\n",
            "0.8666666746139526\n"
          ]
        }
      ],
      "source": [
        "# accuracy for the test data\n",
        "loss, accuracy = model.evaluate(data_test)\n",
        "print(accuracy)"
      ]
    },
    {
      "cell_type": "code",
      "execution_count": 21,
      "metadata": {},
      "outputs": [
        {
          "name": "stdout",
          "output_type": "stream",
          "text": [
            "INFO:tensorflow:Assets written to: face recog model\\assets\n"
          ]
        },
        {
          "name": "stderr",
          "output_type": "stream",
          "text": [
            "INFO:tensorflow:Assets written to: face recog model\\assets\n"
          ]
        }
      ],
      "source": [
        "model.save(\"face recog model\")"
      ]
    },
    {
      "cell_type": "code",
      "execution_count": 7,
      "metadata": {},
      "outputs": [
        {
          "name": "stdout",
          "output_type": "stream",
          "text": [
            "WARNING:tensorflow:From c:\\Users\\amrut\\AppData\\Local\\Programs\\Python\\Python311\\Lib\\site-packages\\keras\\src\\saving\\legacy\\saved_model\\load.py:107: The name tf.gfile.Exists is deprecated. Please use tf.io.gfile.exists instead.\n",
            "\n"
          ]
        }
      ],
      "source": [
        "model = tf.keras.models.load_model('face recog model')"
      ]
    },
    {
      "cell_type": "markdown",
      "metadata": {},
      "source": [
        "## Visualising Results"
      ]
    },
    {
      "cell_type": "code",
      "execution_count": 29,
      "metadata": {},
      "outputs": [],
      "source": [
        "run_data = data_test.as_numpy_iterator()"
      ]
    },
    {
      "cell_type": "code",
      "execution_count": 33,
      "metadata": {},
      "outputs": [
        {
          "name": "stdout",
          "output_type": "stream",
          "text": [
            "1/1 [==============================] - 4s 4s/step\n"
          ]
        }
      ],
      "source": [
        "img_input, img_val = run_data.next()[0]\n",
        "y_hat = model.predict([img_input, img_val])"
      ]
    },
    {
      "cell_type": "code",
      "execution_count": 34,
      "metadata": {},
      "outputs": [
        {
          "data": {
            "text/plain": [
              "array([[0.01255848],\n",
              "       [0.59228075],\n",
              "       [0.34307873],\n",
              "       [0.17786933],\n",
              "       [0.62070775],\n",
              "       [0.18653983],\n",
              "       [0.00687533],\n",
              "       [0.09304509],\n",
              "       [0.7726987 ],\n",
              "       [0.5554626 ],\n",
              "       [0.07963043],\n",
              "       [0.37462074],\n",
              "       [0.68873495],\n",
              "       [0.84411967],\n",
              "       [0.00507576],\n",
              "       [0.86092156]], dtype=float32)"
            ]
          },
          "execution_count": 34,
          "metadata": {},
          "output_type": "execute_result"
        }
      ],
      "source": [
        "y_hat"
      ]
    },
    {
      "cell_type": "code",
      "execution_count": 36,
      "metadata": {},
      "outputs": [
        {
          "data": {
            "text/plain": [
              "[0, 1, 0, 0, 1, 0, 0, 0, 1, 1, 0, 0, 1, 1, 0, 1]"
            ]
          },
          "execution_count": 36,
          "metadata": {},
          "output_type": "execute_result"
        }
      ],
      "source": [
        "# post-processing\n",
        "[1 if prediction > 0.5 else 0 for prediction in y_hat]"
      ]
    },
    {
      "cell_type": "code",
      "execution_count": 57,
      "metadata": {},
      "outputs": [
        {
          "data": {
            "text/plain": [
              "<matplotlib.image.AxesImage at 0x22265d08790>"
            ]
          },
          "execution_count": 57,
          "metadata": {},
          "output_type": "execute_result"
        },
        {
          "data": {
            "image/png": "[encoded data removed]",
            "text/plain": [
              "<Figure size 1800x800 with 2 Axes>"
            ]
          },
          "metadata": {},
          "output_type": "display_data"
        }
      ],
      "source": [
        "plt.figure(figsize=(18,8))\n",
        "plt.subplot(1,2,1)\n",
        "plt.imshow(img_input[1])\n",
        "plt.subplot(1,2,2)\n",
        "plt.imshow(img_val[1])"
      ]
    }
  ],
  "metadata": {
    "colab": {
      "provenance": []
    },
    "kernelspec": {
      "display_name": "Python 3",
      "name": "python3"
    },
    "language_info": {
      "codemirror_mode": {
        "name": "ipython",
        "version": 3
      },
      "file_extension": ".py",
      "mimetype": "text/x-python",
      "name": "python",
      "nbconvert_exporter": "python",
      "pygments_lexer": "ipython3",
      "version": "3.11.9"
    }
  },
  "nbformat": 4,
  "nbformat_minor": 0
}
