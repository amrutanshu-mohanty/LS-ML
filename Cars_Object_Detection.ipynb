{
  "nbformat": 4,
  "nbformat_minor": 0,
  "metadata": {
    "colab": {
      "provenance": []
    },
    "kernelspec": {
      "name": "python3",
      "display_name": "Python 3"
    },
    "language_info": {
      "name": "python"
    }
  },
  "cells": [
    {
      "cell_type": "code",
      "execution_count": null,
      "metadata": {
        "id": "6VufnkinMO7R"
      },
      "outputs": [],
      "source": [
        "# Step 1: Install YOLOv8\n",
        "!pip install ultralytics\n",
        "\n",
        "# Step 2: Import necessary libraries\n",
        "from ultralytics import YOLO\n",
        "\n",
        "# Step 3: Load the YOLOv8 model\n",
        "model = YOLO('yolov8n.pt')  # You can choose different versions like yolov8s.pt, yolov8m.pt, etc.\n",
        "\n",
        "# Step 4: Prepare your dataset\n",
        "# Assuming your dataset is in COCO format and located in 'data/cars'\n",
        "dataset_path = 'data/cars'\n",
        "\n",
        "# Step 5: Train the model\n",
        "model.train(data=dataset_path, epochs=50, imgsz=640)\n",
        "\n",
        "# Step 6: Run inference on new images\n",
        "results = model.predict(source='path/to/your/image.jpg')\n",
        "\n",
        "# Step 7: Visualize the results\n",
        "results.show()\n"
      ]
    }
  ]
}